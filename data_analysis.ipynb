{
 "cells": [
  {
   "cell_type": "code",
   "execution_count": 14,
   "metadata": {},
   "outputs": [],
   "source": [
    "import pandas as pd\n",
    "import seaborn as sns\n",
    "\n",
    "from dataset import get_additional_fields_json, get_series_from_additional_fields_json"
   ]
  },
  {
   "cell_type": "code",
   "execution_count": 2,
   "metadata": {},
   "outputs": [],
   "source": [
    "# load data\n",
    "data_path = r'data\\ML_zadatak_auti.csv'\n",
    "df = pd.read_csv(data_path)"
   ]
  },
  {
   "cell_type": "code",
   "execution_count": 5,
   "metadata": {},
   "outputs": [
    {
     "data": {
      "text/plain": [
       "98081"
      ]
     },
     "execution_count": 5,
     "metadata": {},
     "output_type": "execute_result"
    }
   ],
   "source": [
    "# how many rows of data\n",
    "len(df)"
   ]
  },
  {
   "cell_type": "code",
   "execution_count": 7,
   "metadata": {},
   "outputs": [
    {
     "data": {
      "text/plain": [
       "['Unnamed: 0',\n",
       " 'ad_id',\n",
       " 'condition_id',\n",
       " 'ad_title',\n",
       " 'additional_fields',\n",
       " 'price']"
      ]
     },
     "execution_count": 7,
     "metadata": {},
     "output_type": "execute_result"
    }
   ],
   "source": [
    "# column names\n",
    "df.columns.tolist()"
   ]
  },
  {
   "cell_type": "code",
   "execution_count": 13,
   "metadata": {},
   "outputs": [
    {
     "name": "stdout",
     "output_type": "stream",
     "text": [
      "yearManufactured\n",
      "modelId\n",
      "modelType\n",
      "mileage\n",
      "serviceBook\n",
      "motorSize\n",
      "motorPower\n",
      "fuelHasLpg\n",
      "fuelTypeId\n",
      "fuelConsumption\n",
      "co2Emission\n",
      "modelYear\n",
      "registrationExpiryTs\n",
      "metallicColor\n",
      "garage\n",
      "firstRegistrationYear\n",
      "inTrafficSinceYear\n",
      "extendedWarranty\n",
      "warranty\n",
      "videoCallOption\n",
      "motorTypeId\n",
      "gearboxTypeId\n",
      "stateId\n",
      "isEurotax\n",
      "usageTypeId\n",
      "bodyTypeId\n",
      "ecologyTypeId\n",
      "transmissionTypeId\n",
      "seatCountId\n",
      "driveTypeId\n",
      "doorCountId\n",
      "airConditionTypeId\n",
      "gearNumberId\n",
      "suspensionTypeId\n",
      "ownerCountId\n",
      "colorId\n",
      "manufacturerId\n"
     ]
    }
   ],
   "source": [
    "additional_fields_json = get_additional_fields_json(df)\n",
    "additional_fields_keys = list(additional_fields_json.iloc[0].keys())\n",
    "\n",
    "# all additional fields\n",
    "for key in additional_fields_keys:\n",
    "    print(key)"
   ]
  },
  {
   "cell_type": "code",
   "execution_count": 23,
   "metadata": {},
   "outputs": [
    {
     "name": "stdout",
     "output_type": "stream",
     "text": [
      "number of modelId NaN values: 56\n",
      "number of unique models:  930\n",
      "number of each model:\n",
      "additional_fields\n",
      "12900.0    2638\n",
      "11705.0    2500\n",
      "11014.0    2312\n",
      "11969.0    2243\n",
      "11580.0    2136\n",
      "           ... \n",
      "13718.0       1\n",
      "11252.0       1\n",
      "13120.0       1\n",
      "11071.0       1\n",
      "13333.0       1\n",
      "Name: count, Length: 930, dtype: int64\n"
     ]
    }
   ],
   "source": [
    "# modelId analysis\n",
    "model_id = get_series_from_additional_fields_json(\n",
    "    additional_fields_json, 'modelId')\n",
    "\n",
    "model_id_nan_vals = model_id.isnull()\n",
    "print('number of modelId NaN values:', model_id_nan_vals.sum())\n",
    "\n",
    "model_id = model_id[~model_id_nan_vals]\n",
    "print('number of unique models: ', len(model_id.unique()))\n",
    "\n",
    "print('number of each model:')\n",
    "print(model_id.value_counts())"
   ]
  },
  {
   "cell_type": "code",
   "execution_count": 27,
   "metadata": {},
   "outputs": [
    {
     "name": "stdout",
     "output_type": "stream",
     "text": [
      "number of motorPower NaN values: 2922\n",
      "median motoPower: 81.0\n",
      "max motorPower: 551896.0\n",
      "min motorPower: 1.0\n"
     ]
    }
   ],
   "source": [
    "# analysis of motorPower\n",
    "motor_power = get_series_from_additional_fields_json(additional_fields_json, 'motorPower')\n",
    "motor_power_nan_vals = motor_power.isnull()\n",
    "print('number of motorPower NaN values:', motor_power_nan_vals.sum())\n",
    "print('median motoPower:', motor_power.median())\n",
    "# there are values of motorPower which are not valid, i.e. too big\n",
    "print('max motorPower:', motor_power.max())\n",
    "print('min motorPower:', motor_power.min())"
   ]
  },
  {
   "cell_type": "code",
   "execution_count": 31,
   "metadata": {},
   "outputs": [
    {
     "name": "stdout",
     "output_type": "stream",
     "text": [
      "number of transmissionTypeId NaN values: 4171\n",
      "additional_fields\n",
      "Mehanički mjenjač          75324\n",
      "Automatski                 12449\n",
      "Automatski sekvencijski     5997\n",
      "Sekvencijski mjenjač         140\n",
      "Name: count, dtype: int64\n"
     ]
    },
    {
     "data": {
      "text/plain": [
       "<Axes: xlabel='count', ylabel='additional_fields'>"
      ]
     },
     "execution_count": 31,
     "metadata": {},
     "output_type": "execute_result"
    },
    {
     "data": {
      "image/png": "[encoded data removed]",
      "text/plain": [
       "<Figure size 640x480 with 1 Axes>"
      ]
     },
     "metadata": {},
     "output_type": "display_data"
    }
   ],
   "source": [
    "# analysis of transmissionTypeId\n",
    "transmission_type = get_series_from_additional_fields_json(additional_fields_json, 'transmissionTypeId')\n",
    "transmission_type_nan_vals = transmission_type.isnull()\n",
    "print('number of transmissionTypeId NaN values:', transmission_type_nan_vals.sum())\n",
    "print(transmission_type.value_counts())\n",
    "\n",
    "sns.countplot(transmission_type)"
   ]
  },
  {
   "cell_type": "code",
   "execution_count": 36,
   "metadata": {},
   "outputs": [
    {
     "name": "stdout",
     "output_type": "stream",
     "text": [
      "number of yearManufactured NaN values: 94\n",
      "median yearManufactured: 2011.0\n",
      "max yearManufactured: 2022.0\n",
      "min yearManufactured: 1971.0\n"
     ]
    },
    {
     "data": {
      "text/plain": [
       "<Axes: xlabel='year manufactured', ylabel='Count'>"
      ]
     },
     "execution_count": 36,
     "metadata": {},
     "output_type": "execute_result"
    },
    {
     "data": {
      "image/png": "[encoded data removed]",
      "text/plain": [
       "<Figure size 640x480 with 1 Axes>"
      ]
     },
     "metadata": {},
     "output_type": "display_data"
    }
   ],
   "source": [
    "# analysis of yearManufactured\n",
    "year_manufactured = get_series_from_additional_fields_json(additional_fields_json, 'yearManufactured')\n",
    "year_manufactured.name = 'year manufactured'\n",
    "year_manufactured_nan_vals = year_manufactured.isnull()\n",
    "print('number of yearManufactured NaN values:', year_manufactured_nan_vals.sum())\n",
    "print('median yearManufactured:', year_manufactured.median())\n",
    "print('max yearManufactured:', year_manufactured.max())\n",
    "print('min yearManufactured:', year_manufactured.min())\n",
    "\n",
    "sns.histplot(year_manufactured)"
   ]
  },
  {
   "cell_type": "code",
   "execution_count": 38,
   "metadata": {},
   "outputs": [
    {
     "name": "stdout",
     "output_type": "stream",
     "text": [
      "number of mileage NaN values: 216\n",
      "median mileage: 151000.0\n",
      "max mileage: 1966502013.0\n",
      "min mileage: -1.0\n"
     ]
    }
   ],
   "source": [
    "# analysis of mileage\n",
    "mileage = get_series_from_additional_fields_json(additional_fields_json, 'mileage')\n",
    "mileage_nan_vals = mileage.isnull()\n",
    "print('number of mileage NaN values:', mileage_nan_vals.sum())\n",
    "print('median mileage:', mileage.median())\n",
    "print('max mileage:', mileage.max())\n",
    "print('min mileage:', mileage.min())\n"
   ]
  },
  {
   "cell_type": "code",
   "execution_count": null,
   "metadata": {},
   "outputs": [],
   "source": []
  }
 ],
 "metadata": {
  "kernelspec": {
   "display_name": "njuskalo",
   "language": "python",
   "name": "python3"
  },
  "language_info": {
   "codemirror_mode": {
    "name": "ipython",
    "version": 3
   },
   "file_extension": ".py",
   "mimetype": "text/x-python",
   "name": "python",
   "nbconvert_exporter": "python",
   "pygments_lexer": "ipython3",
   "version": "3.10.14"
  }
 },
 "nbformat": 4,
 "nbformat_minor": 2
}
